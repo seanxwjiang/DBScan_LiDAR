{
 "cells": [
  {
   "cell_type": "code",
   "execution_count": 55,
   "metadata": {},
   "outputs": [],
   "source": [
    "from sklearn import cluster\n",
    "from sklearn.metrics import adjusted_rand_score\n",
    "import numpy as np\n",
    "import pandas as pd\n",
    "import matplotlib.pyplot as plt\n",
    "from sklearn.datasets.samples_generator import make_blobs\n",
    "from sklearn import mixture\n",
    "from sklearn.svm.libsvm import predict\n",
    "from math import ceil, floor\n",
    "from decimal import Decimal"
   ]
  },
  {
   "cell_type": "code",
   "execution_count": 2,
   "metadata": {},
   "outputs": [],
   "source": [
    "# #产生数据\n",
    "# def create_data(centers,num=100,std=0.7):\n",
    "#     X,labels_true = make_blobs(n_samples=num,centers=centers, cluster_std=std)\n",
    "#     return X,labels_true\n",
    "# def plot_data(*data):\n",
    "#     X,labels_true=data\n",
    "#     labels=np.unique(labels_true)\n",
    "#     fig=plt.figure()\n",
    "#     ax=fig.add_subplot(1,1,1)\n",
    "#     colors='rgbycm'\n",
    "#     for i,label in enumerate(labels):\n",
    "#         position=labels_true==label\n",
    "#         ax.scatter(X[position,0],X[position,1],label=\"cluster %d\"%label),\n",
    "#         color=colors[i%len(colors)]\n",
    "\n",
    "#     ax.legend(loc=\"best\",framealpha=0.5)\n",
    "#     ax.set_xlabel(\"X[0]\")\n",
    "#     ax.set_ylabel(\"Y[1]\")\n",
    "#     ax.set_title(\"data\")\n",
    "#     plt.show()\n",
    "\n",
    "# centers = [[1,1],[1,2],[2,2],[10,20]]\n",
    "# X,labels_true = create_data(centers,1000,0.5)\n",
    "# plot_data(X,labels_true)\n",
    "\n",
    "# def test_DBSCAN(*data):\n",
    "#     X,labels_true = data\n",
    "#     clst = cluster.DBSCAN();\n",
    "#     predict_labels = clst.fit_predict(X)\n",
    "#     print(\"ARI:%s\"%adjusted_rand_score(labels_true,predict_labels))\n",
    "#     print(\"Core sample num:%d\"%len(clst.core_sample_indices_))\n",
    "\n",
    "# test_DBSCAN(X,labels_true)"
   ]
  },
  {
   "cell_type": "code",
   "execution_count": 46,
   "metadata": {},
   "outputs": [
    {
     "name": "stdout",
     "output_type": "stream",
     "text": [
      "   Points_m_XYZ:0  Points_m_XYZ:1  Points_m_XYZ:2  intensity  laser_id  \\\n",
      "0        0.001390        1.592648       -0.261663       11.0       1.0   \n",
      "1        0.000526        0.502164       -0.282147        5.0       2.0   \n",
      "2        0.001844        1.760696       -0.247450       12.0       3.0   \n",
      "3        0.000615        0.503280       -0.267599        5.0       4.0   \n",
      "4        0.002956        2.419510       -0.282943        4.0       5.0   \n",
      "\n",
      "   azimuth  distance_m  adjustedtime    timestamp  \n",
      "0      5.0       1.614  8.344831e+10  648305696.0  \n",
      "1      6.0       0.576  8.344831e+10  648305697.0  \n",
      "2      6.0       1.778  8.344831e+10  648305698.0  \n",
      "3      7.0       0.570  8.344831e+10  648305699.0  \n",
      "4      7.0       2.436  8.344831e+10  648305700.0  \n",
      "   Points_m_XYZ:0  Points_m_XYZ:1  Points_m_XYZ:2  intensity  laser_id  \\\n",
      "0        0.000395        0.452423       -0.268309        5.0       0.0   \n",
      "1        0.001393        1.596595       -0.262311       12.0       1.0   \n",
      "2        0.000522        0.498677       -0.280188        5.0       2.0   \n",
      "3        0.001842        1.758715       -0.247171       12.0       3.0   \n",
      "4        0.000667        0.545661       -0.290133        5.0       4.0   \n",
      "\n",
      "   azimuth  distance_m  adjustedtime    timestamp  \n",
      "0      5.0       0.526  8.349027e+10  690270082.0  \n",
      "1      5.0       1.618  8.349027e+10  690270083.0  \n",
      "2      6.0       0.572  8.349027e+10  690270084.0  \n",
      "3      6.0       1.776  8.349027e+10  690270085.0  \n",
      "4      7.0       0.618  8.349027e+10  690270086.0  \n"
     ]
    }
   ],
   "source": [
    "background_data=pd.read_csv(\"D:/Dropbox/2018.09.20 LiDAR HD Traffic Estimation/Data/data/Lab Points/background.csv\")\n",
    "test_data=pd.read_csv(\"D:/Dropbox/2018.09.20 LiDAR HD Traffic Estimation/Data/data/Lab Points/test.csv\")\n",
    "\n",
    "print(background_data.head(5))\n",
    "print(test_data.head(5))\n"
   ]
  },
  {
   "cell_type": "code",
   "execution_count": 70,
   "metadata": {},
   "outputs": [
    {
     "name": "stdout",
     "output_type": "stream",
     "text": [
      "(66828, 9)\n",
      "(66922, 9)\n",
      "(133750, 9)\n",
      "(33017, 9)\n"
     ]
    }
   ],
   "source": [
    "\n",
    "# print(test_data.shape)\n",
    "# print(background_data.shape)\n",
    "# filtered_data=test_data.append(background_data);\n",
    "# print(filtered_data.shape)\n",
    "# # print(filtered_data.head(3))\n",
    "# filtered_data.loc[:,['Points_m_XYZ:0','Points_m_XYZ:1','Points_m_XYZ:2']]=filtered_data.loc[:,['Points_m_XYZ:0','Points_m_XYZ:1','Points_m_XYZ:2']].applymap(lambda x: floor(x*100)/100 if x>0 else ceil(x*100)/100)\n",
    "# # print(filtered_data.head(3))\n",
    "\n",
    "# filtered_data = filtered_data.drop_duplicates(subset=['Points_m_XYZ:0','Points_m_XYZ:1','Points_m_XYZ:2'],keep=False)\n",
    "# print(filtered_data.shape)\n",
    "\n",
    "# filtered_data.to_csv(\"D:/Dropbox/2018.09.20 LiDAR HD Traffic Estimation/Data/data/Lab Points/filtered.csv\")\n"
   ]
  },
  {
   "cell_type": "code",
   "execution_count": 86,
   "metadata": {},
   "outputs": [],
   "source": [
    "def plot_data(*data):\n",
    "    X,labels_true=data\n",
    "    labels=np.unique(labels_true)\n",
    "    fig=plt.figure()\n",
    "    ax=fig.add_subplot(1,1,1)\n",
    "    colors='rgbycm'\n",
    "    for i,label in enumerate(labels):\n",
    "        position=labels_true==label\n",
    "        ax.scatter(X.loc[position,'x'],X.loc[position,'y'],X.loc[position,'z'],label=\"cluster %d\"%label),\n",
    "        color=colors[i%len(colors)]\n",
    "\n",
    "    ax.legend(loc=\"best\",framealpha=0.5)\n",
    "#     ax.set_xlabel(\"X[0]\")\n",
    "#     ax.set_ylabel(\"Y[1]\")\n",
    "    ax.set_title(\"data\")\n",
    "    plt.show()"
   ]
  },
  {
   "cell_type": "code",
   "execution_count": 98,
   "metadata": {},
   "outputs": [
    {
     "name": "stdout",
     "output_type": "stream",
     "text": [
      "          x         y         z\n",
      "0  1.186455 -0.189615 -0.314538\n",
      "(1666, 3)\n",
      "(1666,)\n",
      "Core sample num:1662\n"
     ]
    },
    {
     "name": "stderr",
     "output_type": "stream",
     "text": [
      "e:\\python36\\lib\\site-packages\\matplotlib\\collections.py:853: RuntimeWarning: invalid value encountered in sqrt\n",
      "  scale = np.sqrt(self._sizes) * dpi / 72.0 * self._factor\n"
     ]
    },
    {
     "data": {
      "image/png": "[encoded data removed]",
      "text/plain": [
       "<matplotlib.figure.Figure at 0x2841836d588>"
      ]
     },
     "metadata": {
      "needs_background": "light"
     },
     "output_type": "display_data"
    },
    {
     "name": "stdout",
     "output_type": "stream",
     "text": [
      "(1666, 4)\n"
     ]
    }
   ],
   "source": [
    "%matplotlib inline\n",
    "\n",
    "filtered_data=pd.read_csv(\"D:/Dropbox/2018.09.20 LiDAR HD Traffic Estimation/Data/data/Lab Points/filtered.csv\")\n",
    "print(filtered_data.head(1))\n",
    "print(filtered_data.shape)\n",
    "\n",
    "\n",
    "clst = cluster.DBSCAN();\n",
    "predict_labels = clst.fit_predict(filtered_data)\n",
    "print(predict_labels.shape)\n",
    "print(\"Core sample num:%d\"%len(clst.core_sample_indices_))\n",
    "\n",
    "plot_data(filtered_data,predict_labels)\n",
    "\n",
    "\n",
    "output=pd.concat([filtered_data,pd.DataFrame(predict_labels)],axis=1)\n",
    "\n",
    "print(output.shape)\n",
    "\n",
    "output.to_csv(\"D:/Dropbox/2018.09.20 LiDAR HD Traffic Estimation/Data/data/Lab Points/predicted.csv\")"
   ]
  }
 ],
 "metadata": {
  "kernelspec": {
   "display_name": "Python 3",
   "language": "python",
   "name": "python3"
  },
  "language_info": {
   "codemirror_mode": {
    "name": "ipython",
    "version": 3
   },
   "file_extension": ".py",
   "mimetype": "text/x-python",
   "name": "python",
   "nbconvert_exporter": "python",
   "pygments_lexer": "ipython3",
   "version": "3.6.1"
  }
 },
 "nbformat": 4,
 "nbformat_minor": 2
}
