{
 "cells": [
  {
   "cell_type": "code",
   "execution_count": 1,
   "metadata": {},
   "outputs": [],
   "source": [
    "from sklearn import cluster\n",
    "from sklearn.metrics import adjusted_rand_score\n",
    "import numpy as np\n",
    "import matplotlib.pyplot as plt\n",
    "from sklearn.datasets.samples_generator import make_blobs\n",
    "from sklearn import mixture\n",
    "from sklearn.svm.libsvm import predict\n"
   ]
  },
  {
   "cell_type": "code",
   "execution_count": 2,
   "metadata": {},
   "outputs": [],
   "source": [
    "#产生数据\n",
    "def create_data(centers,num=100,std=0.7):\n",
    "    X,labels_true = make_blobs(n_samples=num,centers=centers, cluster_std=std)\n",
    "    return X,labels_true\n",
    "def plot_data(*data):\n",
    "    X,labels_true=data\n",
    "    labels=np.unique(labels_true)\n",
    "    fig=plt.figure()\n",
    "    ax=fig.add_subplot(1,1,1)\n",
    "    colors='rgbycm'\n",
    "    for i,label in enumerate(labels):\n",
    "        position=labels_true==label\n",
    "        ax.scatter(X[position,0],X[position,1],label=\"cluster %d\"%label),\n",
    "        color=colors[i%len(colors)]\n",
    "\n",
    "    ax.legend(loc=\"best\",framealpha=0.5)\n",
    "    ax.set_xlabel(\"X[0]\")\n",
    "    ax.set_ylabel(\"Y[1]\")\n",
    "    ax.set_title(\"data\")\n",
    "    plt.show()\n"
   ]
  },
  {
   "cell_type": "code",
   "execution_count": 10,
   "metadata": {},
   "outputs": [
    {
     "data": {
      "image/png": "[encoded data removed]",
      "text/plain": [
       "<matplotlib.figure.Figure at 0x2dc381851d0>"
      ]
     },
     "metadata": {
      "needs_background": "light"
     },
     "output_type": "display_data"
    }
   ],
   "source": [
    "centers = [[1,1],[1,2],[2,2],[10,20]]\n",
    "X,labels_true = create_data(centers,1000,0.5)\n",
    "plot_data(X,labels_true)"
   ]
  },
  {
   "cell_type": "code",
   "execution_count": 12,
   "metadata": {},
   "outputs": [],
   "source": [
    "def test_DBSCAN(*data):\n",
    "    X,labels_true = data\n",
    "    clst = cluster.DBSCAN();\n",
    "    predict_labels = clst.fit_predict(X)\n",
    "    print(\"ARI:%s\"%adjusted_rand_score(labels_true,predict_labels))\n",
    "    print(\"Core sample num:%d\"%len(clst.core_sample_indices_))\n"
   ]
  },
  {
   "cell_type": "code",
   "execution_count": 13,
   "metadata": {},
   "outputs": [
    {
     "name": "stdout",
     "output_type": "stream",
     "text": [
      "ARI:0.3314717019583459\n",
      "Core sample num:991\n"
     ]
    }
   ],
   "source": [
    "test_DBSCAN(X,labels_true)"
   ]
  }
 ],
 "metadata": {
  "kernelspec": {
   "display_name": "Python 3",
   "language": "python",
   "name": "python3"
  },
  "language_info": {
   "codemirror_mode": {
    "name": "ipython",
    "version": 3
   },
   "file_extension": ".py",
   "mimetype": "text/x-python",
   "name": "python",
   "nbconvert_exporter": "python",
   "pygments_lexer": "ipython3",
   "version": "3.6.1"
  }
 },
 "nbformat": 4,
 "nbformat_minor": 2
}
